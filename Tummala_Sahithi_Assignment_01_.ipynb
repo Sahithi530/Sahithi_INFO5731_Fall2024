{
  "cells": [
    {
      "cell_type": "markdown",
      "metadata": {
        "id": "view-in-github",
        "colab_type": "text"
      },
      "source": [
        "<a href=\"https://colab.research.google.com/github/Sahithi530/Sahithi_INFO5731_Fall2024/blob/main/Tummala_Sahithi_Assignment_01_.ipynb\" target=\"_parent\"><img src=\"https://colab.research.google.com/assets/colab-badge.svg\" alt=\"Open In Colab\"/></a>"
      ]
    },
    {
      "cell_type": "markdown",
      "metadata": {
        "id": "Ryk8D1Q4Wsrp"
      },
      "source": [
        "# **INFO5731 Assignment One**"
      ]
    },
    {
      "cell_type": "markdown",
      "source": [
        "This assignment includes range of programming tasks and data analysis exercises, aiming to enhance your Python skills and proficiency in string manipulation, numerical computations, and data science. Follow the instructions carefully and design well-structured Python programs to address each question.\n",
        "\n",
        "Late Submission will have a penalty of 10% reduction for each day after the deadline."
      ],
      "metadata": {
        "id": "qcP6re2g5A5r"
      }
    },
    {
      "cell_type": "markdown",
      "metadata": {
        "id": "JkzR8cFAyGik"
      },
      "source": [
        "# Question 1 (10 points).\n",
        "\n",
        "The formula that describes the volume V of a hemisphere with radius r is the following:\n",
        "\n",
        "$ V=\\frac{2}{3}\\ast\\ \\pi\\ast\\ r^3 $\n",
        "\n",
        "Write a program to calculate the value of V when r is in the range of even numbers from 1-20. Output the result in the following format:\n",
        "\n",
        "\tr\tV\n",
        "\t2\t…\n",
        "\t4\t…\n",
        "\t6\t…\n",
        "\t.\n",
        "\t.\n",
        "\t.\n",
        "\t20\t…\n"
      ]
    },
    {
      "cell_type": "code",
      "execution_count": null,
      "metadata": {
        "id": "jDyTKYs-yGit",
        "colab": {
          "base_uri": "https://localhost:8080/"
        },
        "outputId": "4c86e00c-7506-487d-9be3-ef98982cc57f"
      },
      "outputs": [
        {
          "output_type": "stream",
          "name": "stdout",
          "text": [
            "r    V\n",
            "2    16.76\n",
            "4    134.04\n",
            "6    452.39\n",
            "8    1072.33\n",
            "10   2094.40\n",
            "12   3619.11\n",
            "14   5747.02\n",
            "16   8578.64\n",
            "18   12214.51\n",
            "20   16755.16\n"
          ]
        }
      ],
      "source": [
        "# Your code here\n",
        "import math #This module is needed for the formulae\n",
        "\n",
        "# This is the function to calculate the volume of a hemisphere\n",
        "def calculate_hemisphere_volume(r):\n",
        "    return (2/3) * math.pi * r**3\n",
        "\n",
        "# I am displaying the header\n",
        "print(f\"{'r':<5}{'V'}\")\n",
        "\n",
        "# I need to loop through even numbers from 2 to 20\n",
        "for r in range(2, 21, 2):\n",
        "    volume = calculate_hemisphere_volume(r)\n",
        "    print(f\"{r:<5}{volume:.2f}\")\n",
        "\n"
      ]
    },
    {
      "cell_type": "markdown",
      "metadata": {
        "id": "90_NR8c5XGWc"
      },
      "source": [
        "# Question 2 (20 points)\n",
        "\n",
        "(a) Write a Python program to generate a sequence of 12 random numbers falling within the range of 50 to 150.\n",
        "\n",
        "(b) Arrange the generated numbers in ascending order. Display the sorted list.\n",
        "\n",
        "(c) Extend the program to arrange the numbers in descending order as well. Present the sorted list accordingly.\n",
        "\n",
        "(d) Compute and output the average of the entire group of generated numbers.\n",
        "\n",
        "(e) Enhance the program to calculate and display the average of the first 6 numbers from both the ascending and descending sorted lists."
      ]
    },
    {
      "cell_type": "code",
      "execution_count": null,
      "metadata": {
        "id": "5QX6bJjGWXY9",
        "colab": {
          "base_uri": "https://localhost:8080/"
        },
        "outputId": "325c324b-5f13-4036-95b4-aba2c9d4be2c"
      },
      "outputs": [
        {
          "output_type": "stream",
          "name": "stdout",
          "text": [
            "Ascending Order: [54, 57, 74, 79, 89, 98, 100, 120, 122, 140, 140, 144]\n",
            "Descending Order: [144, 140, 140, 122, 120, 100, 98, 89, 79, 74, 57, 54]\n",
            "Average of all numbers: 101.41666666666667\n",
            "Average of the first 6 numbers (Ascending): 75.16666666666667\n",
            "Average of the first 6 numbers (Descending): 127.66666666666667\n"
          ]
        }
      ],
      "source": [
        "# Write code for each of the sub parts with proper comments.\n",
        "import random\n",
        "\n",
        "# (a) Generating a sequence of 12 random numbers within the range of 50 to 150\n",
        "random_numbers = [random.randint(50, 150) for _ in range(12)]\n",
        "\n",
        "# (b) Arranging the generated numbers in ascending order and displaying them\n",
        "ascending_numbers = sorted(random_numbers)\n",
        "print(\"Ascending Order:\", ascending_numbers)\n",
        "\n",
        "# (c) Arranging the numbers in descending order and displaying them\n",
        "descending_numbers = sorted(random_numbers, reverse=True)\n",
        "print(\"Descending Order:\", descending_numbers)\n",
        "\n",
        "# (d) Computing and outputing the average of the entire group of generated numbers\n",
        "average_all = sum(random_numbers) / len(random_numbers)\n",
        "print(\"Average of all numbers:\", average_all)\n",
        "\n",
        "# (e) Computing and displaying the average of the first 6 numbers from both sorted lists\n",
        "average_first_6_ascending = sum(ascending_numbers[:6]) / 6\n",
        "average_first_6_descending = sum(descending_numbers[:6]) / 6\n",
        "print(\"Average of the first 6 numbers (Ascending):\", average_first_6_ascending)\n",
        "print(\"Average of the first 6 numbers (Descending):\", average_first_6_descending)\n",
        "\n"
      ]
    },
    {
      "cell_type": "markdown",
      "metadata": {
        "id": "1F_PZdH9Sh49"
      },
      "source": [
        "# Question 3 (20 points).\n",
        "\n",
        "Create a Python program that encompasses various string manipulation task:\n",
        "\n",
        "(a) Prompt the user to input two sentences.\n",
        "\n",
        "(b) Transform each sentence into a list, where each element corresponds to a word in the sentence. For example, if the sentences are \"Hello, how are you doing today?\" and \"This is an example sentence for the program!\"\n",
        "\n",
        "The program should output:\n",
        "['Hello', ',', 'how', 'are', 'you', 'doing', 'today', '?', 'This', 'is', 'an', 'example', 'sentence', 'for', 'the', 'program', '!']\n",
        "\n",
        "(c) Compare the two sentences. Print out a list of words that occur in both sentences.\n",
        "\n",
        "(d) Remove any punctuation from the sentence and print the sanitized sentences. It should remove at least the following characters, but it can remove more: period(“.”), comma (“,”), semicolon (“;”), and colon (“:”).\n",
        "\n",
        "(e) Count the number of vowels in each of the sentences. Print out each vowel and the occurrences  in the each of the two sentences separately, such as:\n",
        "\n",
        "Sentence1: a:2, e:2, i:0, etc.\n",
        "Sentence2: a:1, e:2, i:2, etc.\n",
        "\n",
        "Design a well-structured Python program to execute these tasks efficiently."
      ]
    },
    {
      "cell_type": "code",
      "execution_count": null,
      "metadata": {
        "id": "Y0oOSlsOS0cq",
        "colab": {
          "base_uri": "https://localhost:8080/"
        },
        "outputId": "439cbe36-8da6-41d8-ddab-edd782d514ba"
      },
      "outputs": [
        {
          "output_type": "stream",
          "name": "stdout",
          "text": [
            "Hello User\n",
            "Please enter the first sentence: run now!\n",
            "Now enter the second sentence: run then%\n",
            "Combined list: ['run', 'now!', 'run', 'then%']\n",
            "Common words in both sentences: ['run']\n",
            "Sanitized Sentence 1: run now\n",
            "Sanitized Sentence 2: run then\n",
            "Vowel counts in Sentence 1:\n",
            "a: 0\n",
            "e: 0\n",
            "i: 0\n",
            "o: 1\n",
            "u: 1\n",
            "\n",
            "Vowel counts in Sentence 2:\n",
            "a: 0\n",
            "e: 1\n",
            "i: 0\n",
            "o: 0\n",
            "u: 1\n"
          ]
        }
      ],
      "source": [
        "# Your code here\n",
        "import string\n",
        "\n",
        "# (a) Prompt the user to input two sentences\n",
        "print(\"Hello User\")\n",
        "sentence1 = input(\"Please enter the first sentence: \")\n",
        "sentence2 = input(\"Now enter the second sentence: \")\n",
        "\n",
        "# (b) Changing each sentence into a list of words, while preserving punctuation as separate elements\n",
        "sentence_list1 = sentence1.split()\n",
        "sentence_list2 = sentence2.split()\n",
        "combined_list = sentence_list1 + sentence_list2\n",
        "print(\"Combined list:\", combined_list)\n",
        "\n",
        "# (c) Comparing the two sentences and printing out a list of words that occur in both sentences\n",
        "common_words = set(sentence_list1).intersection(set(sentence_list2))\n",
        "print(\"Common words in both sentences:\", list(common_words))\n",
        "\n",
        "# (d) Removing punctuation from the sentences and printing the sanitized sentences\n",
        "def remove_punctuation(sentence):\n",
        "    return sentence.translate(str.maketrans('', '', string.punctuation))\n",
        "\n",
        "sanitized_sentence1 = remove_punctuation(sentence1)\n",
        "sanitized_sentence2 = remove_punctuation(sentence2)\n",
        "print(\"Sanitized Sentence 1:\", sanitized_sentence1)\n",
        "print(\"Sanitized Sentence 2:\", sanitized_sentence2)\n",
        "\n",
        "# (e) Counting the number of vowels in each sentence\n",
        "def count_vowels(sentence):\n",
        "    vowels = \"aeiou\"\n",
        "    sentence = sentence.lower()  # Converting sentence to lowercase for uniform comparison\n",
        "    vowel_count = {vowel: sentence.count(vowel) for vowel in vowels}\n",
        "    return vowel_count\n",
        "\n",
        "vowel_count1 = count_vowels(sanitized_sentence1)\n",
        "vowel_count2 = count_vowels(sanitized_sentence2)\n",
        "\n",
        "# Printing the vowel counts for each sentence\n",
        "print(\"Vowel counts in Sentence 1:\")\n",
        "for vowel, count in vowel_count1.items():\n",
        "    print(f\"{vowel}: {count}\")\n",
        "\n",
        "print(\"\\nVowel counts in Sentence 2:\")\n",
        "for vowel, count in vowel_count2.items():\n",
        "    print(f\"{vowel}: {count}\")\n",
        "\n"
      ]
    },
    {
      "cell_type": "markdown",
      "source": [
        "# Question 4 (20 Points)"
      ],
      "metadata": {
        "id": "OP4-5qxAtInv"
      }
    },
    {
      "cell_type": "markdown",
      "source": [
        "Design and implement a simple command-line calculator program. The program should handle both integers and floating-point numbers.\n",
        "\n",
        "(a) Write program that takes a mathematical expression as input and evaluates it. The program should support addition, subtraction, multiplication, and division.\n",
        "\n",
        "(b) Extend the calculator to handle parentheses in mathematical expressions. Implement the necessary logic to evaluate expressions with nested parentheses.\n",
        "\n",
        "(c) Enhance your calculator to include additional mathematical operations such as exponentiation, square root, and modulus.\n",
        "\n",
        "(d) Implement error handling in the calculator program. Handle cases such as division by zero and invalid input expressions. Provide meaningful error messages.\n",
        "\n",
        "(e) Implement a command to exit the calculator."
      ],
      "metadata": {
        "id": "uzN4_hDptK9U"
      }
    },
    {
      "cell_type": "code",
      "source": [
        "# Your code here\n",
        "import math #Without this no mathematical expressions will be possible\n",
        "\n",
        "def evaluate_expression(expression):\n",
        "    try:\n",
        "        # I am using eval to evaluate the expression, allowing Python to handle the math parsing\n",
        "        result = eval(expression)\n",
        "        return result\n",
        "    except ZeroDivisionError:\n",
        "        return \"Error: Division by zero is not allowed!.\"\n",
        "    except ValueError:\n",
        "        return \"Error: Invalid mathematical operation!.\"\n",
        "    except SyntaxError:\n",
        "        return \"Error: Invalid input syntax!.\"\n",
        "    except Exception as e:\n",
        "        return f\"Error: {str(e)}\"\n",
        "\n",
        "def calculator():\n",
        "    print(\"Welcome to the Best Python Calculator in Town!\")\n",
        "    print(\"Supported operations: +, -, *, /, ** (exponentiation), % (modulus), sqrt() (square root)\")\n",
        "    print(\"Enter 'exit' to quit the calculator.\\n\")\n",
        "\n",
        "    while True:\n",
        "        # Getting the user input\n",
        "        expression = input(\"Enter a mathematical expression: \")\n",
        "\n",
        "        # (e) Implementing the exit command\n",
        "        if expression.lower() == \"exit\":\n",
        "            print(\".\")\n",
        "            print(\"....\")\n",
        "            print(\"Exiting the calculator. Goodbye!\")\n",
        "            break\n",
        "\n",
        "        # (b) Handling parentheses and evaluating the expression\n",
        "        if \"sqrt\" in expression:\n",
        "            try:\n",
        "                # If sqrt is in the expression, converting it to math.sqrt\n",
        "                expression = expression.replace(\"sqrt\", \"math.sqrt\")\n",
        "            except Exception as e:\n",
        "                print(f\"Error: {str(e)}\")\n",
        "\n",
        "        # (a), (b), (c), (d) Evaluating the expression and handling errors\n",
        "        result = evaluate_expression(expression)\n",
        "\n",
        "        # Outputing either the result or error message\n",
        "        print(\"Result:\", result)\n",
        "\n",
        "# Starting the calculator\n",
        "calculator()\n"
      ],
      "metadata": {
        "id": "8nQnVxjJuYtu",
        "colab": {
          "base_uri": "https://localhost:8080/"
        },
        "outputId": "30f95899-ab41-4cb2-a55c-50eeb4a118f9"
      },
      "execution_count": null,
      "outputs": [
        {
          "output_type": "stream",
          "name": "stdout",
          "text": [
            "Welcome to the Best Python Calculator in Town!\n",
            "Supported operations: +, -, *, /, ** (exponentiation), % (modulus), sqrt() (square root)\n",
            "Enter 'exit' to quit the calculator.\n",
            "\n",
            "Enter a mathematical expression: 3#2\n",
            "Result: 3\n",
            "Enter a mathematical expression: 3/0\n",
            "Result: Error: Division by zero is not allowed!.\n"
          ]
        }
      ]
    },
    {
      "cell_type": "markdown",
      "source": [
        "# Question 5 (30 points)\n",
        "In the field of Data Science, data is often formatted as a comma-delimited (CSV) file, where each line in a file corresponds to a field's value. Refer to Chapter 9 (p. 106) for more information on comma-delimited files.\n",
        "\n",
        "To answer this question, you will need to download the file Assignment1_denton_housing.csv included with this assignment. The file contains statistics about housing in the city of Denton from 2008 to 2014. Write a program to implement the following questions.\n",
        "\n",
        "(a) (5 pts) Calculate the difference in the number of Occupied Housing Units from year to year and print it. The difference must be calculated for the consecutive years such as 2008-2009, 2009-2010 etc. Finally, print the values in the ascending order.\n",
        "\n",
        "(b) (5 pts) For all the years, calculate the percentage of housing units which are vacant an occupied. Print the results in the following format:\n",
        "\n",
        "Year Vacant Housing Units Occupied Housing Units\n",
        "\n",
        "2008  30%   70%                          \n",
        "2009 ----- -----\n",
        "2010 ----- -----\n",
        "2011 ----- -----\n",
        "2012 ----- -----\n",
        "2013 ----- -----\n",
        "2014 ----- -----\n",
        "(c) (10 pts) Calculate and print the valued and years in which the highest number of housing units were vacant and occupied. Print the results in the following format:\n",
        "\n",
        "                          Year    Value\n",
        "Vacant Housing Units      -----   -----\n",
        "Occupied Housing Units    -----   -----\n",
        "(d) (10 pts) Calculate the harmonic mean of the total housing units and print it out. You can find the information about harmonic mean here: https://ncalculators.com/statistics/harmonic-mean-calculator.htm"
      ],
      "metadata": {
        "id": "HOAG-_Y1yptT"
      }
    },
    {
      "cell_type": "code",
      "source": [
        "from google.colab import files\n",
        "\n",
        "# This prompts the upload of the CSV file from the local machine\n",
        "uploaded = files.upload()\n"
      ],
      "metadata": {
        "colab": {
          "base_uri": "https://localhost:8080/",
          "height": 73
        },
        "id": "DTJtgTvqwpgm",
        "outputId": "87262d25-af1a-45d7-e975-0ec4da2e1e4d"
      },
      "execution_count": null,
      "outputs": [
        {
          "output_type": "display_data",
          "data": {
            "text/plain": [
              "<IPython.core.display.HTML object>"
            ],
            "text/html": [
              "\n",
              "     <input type=\"file\" id=\"files-51e9130c-293f-4904-b4d1-76734fcec507\" name=\"files[]\" multiple disabled\n",
              "        style=\"border:none\" />\n",
              "     <output id=\"result-51e9130c-293f-4904-b4d1-76734fcec507\">\n",
              "      Upload widget is only available when the cell has been executed in the\n",
              "      current browser session. Please rerun this cell to enable.\n",
              "      </output>\n",
              "      <script>// Copyright 2017 Google LLC\n",
              "//\n",
              "// Licensed under the Apache License, Version 2.0 (the \"License\");\n",
              "// you may not use this file except in compliance with the License.\n",
              "// You may obtain a copy of the License at\n",
              "//\n",
              "//      http://www.apache.org/licenses/LICENSE-2.0\n",
              "//\n",
              "// Unless required by applicable law or agreed to in writing, software\n",
              "// distributed under the License is distributed on an \"AS IS\" BASIS,\n",
              "// WITHOUT WARRANTIES OR CONDITIONS OF ANY KIND, either express or implied.\n",
              "// See the License for the specific language governing permissions and\n",
              "// limitations under the License.\n",
              "\n",
              "/**\n",
              " * @fileoverview Helpers for google.colab Python module.\n",
              " */\n",
              "(function(scope) {\n",
              "function span(text, styleAttributes = {}) {\n",
              "  const element = document.createElement('span');\n",
              "  element.textContent = text;\n",
              "  for (const key of Object.keys(styleAttributes)) {\n",
              "    element.style[key] = styleAttributes[key];\n",
              "  }\n",
              "  return element;\n",
              "}\n",
              "\n",
              "// Max number of bytes which will be uploaded at a time.\n",
              "const MAX_PAYLOAD_SIZE = 100 * 1024;\n",
              "\n",
              "function _uploadFiles(inputId, outputId) {\n",
              "  const steps = uploadFilesStep(inputId, outputId);\n",
              "  const outputElement = document.getElementById(outputId);\n",
              "  // Cache steps on the outputElement to make it available for the next call\n",
              "  // to uploadFilesContinue from Python.\n",
              "  outputElement.steps = steps;\n",
              "\n",
              "  return _uploadFilesContinue(outputId);\n",
              "}\n",
              "\n",
              "// This is roughly an async generator (not supported in the browser yet),\n",
              "// where there are multiple asynchronous steps and the Python side is going\n",
              "// to poll for completion of each step.\n",
              "// This uses a Promise to block the python side on completion of each step,\n",
              "// then passes the result of the previous step as the input to the next step.\n",
              "function _uploadFilesContinue(outputId) {\n",
              "  const outputElement = document.getElementById(outputId);\n",
              "  const steps = outputElement.steps;\n",
              "\n",
              "  const next = steps.next(outputElement.lastPromiseValue);\n",
              "  return Promise.resolve(next.value.promise).then((value) => {\n",
              "    // Cache the last promise value to make it available to the next\n",
              "    // step of the generator.\n",
              "    outputElement.lastPromiseValue = value;\n",
              "    return next.value.response;\n",
              "  });\n",
              "}\n",
              "\n",
              "/**\n",
              " * Generator function which is called between each async step of the upload\n",
              " * process.\n",
              " * @param {string} inputId Element ID of the input file picker element.\n",
              " * @param {string} outputId Element ID of the output display.\n",
              " * @return {!Iterable<!Object>} Iterable of next steps.\n",
              " */\n",
              "function* uploadFilesStep(inputId, outputId) {\n",
              "  const inputElement = document.getElementById(inputId);\n",
              "  inputElement.disabled = false;\n",
              "\n",
              "  const outputElement = document.getElementById(outputId);\n",
              "  outputElement.innerHTML = '';\n",
              "\n",
              "  const pickedPromise = new Promise((resolve) => {\n",
              "    inputElement.addEventListener('change', (e) => {\n",
              "      resolve(e.target.files);\n",
              "    });\n",
              "  });\n",
              "\n",
              "  const cancel = document.createElement('button');\n",
              "  inputElement.parentElement.appendChild(cancel);\n",
              "  cancel.textContent = 'Cancel upload';\n",
              "  const cancelPromise = new Promise((resolve) => {\n",
              "    cancel.onclick = () => {\n",
              "      resolve(null);\n",
              "    };\n",
              "  });\n",
              "\n",
              "  // Wait for the user to pick the files.\n",
              "  const files = yield {\n",
              "    promise: Promise.race([pickedPromise, cancelPromise]),\n",
              "    response: {\n",
              "      action: 'starting',\n",
              "    }\n",
              "  };\n",
              "\n",
              "  cancel.remove();\n",
              "\n",
              "  // Disable the input element since further picks are not allowed.\n",
              "  inputElement.disabled = true;\n",
              "\n",
              "  if (!files) {\n",
              "    return {\n",
              "      response: {\n",
              "        action: 'complete',\n",
              "      }\n",
              "    };\n",
              "  }\n",
              "\n",
              "  for (const file of files) {\n",
              "    const li = document.createElement('li');\n",
              "    li.append(span(file.name, {fontWeight: 'bold'}));\n",
              "    li.append(span(\n",
              "        `(${file.type || 'n/a'}) - ${file.size} bytes, ` +\n",
              "        `last modified: ${\n",
              "            file.lastModifiedDate ? file.lastModifiedDate.toLocaleDateString() :\n",
              "                                    'n/a'} - `));\n",
              "    const percent = span('0% done');\n",
              "    li.appendChild(percent);\n",
              "\n",
              "    outputElement.appendChild(li);\n",
              "\n",
              "    const fileDataPromise = new Promise((resolve) => {\n",
              "      const reader = new FileReader();\n",
              "      reader.onload = (e) => {\n",
              "        resolve(e.target.result);\n",
              "      };\n",
              "      reader.readAsArrayBuffer(file);\n",
              "    });\n",
              "    // Wait for the data to be ready.\n",
              "    let fileData = yield {\n",
              "      promise: fileDataPromise,\n",
              "      response: {\n",
              "        action: 'continue',\n",
              "      }\n",
              "    };\n",
              "\n",
              "    // Use a chunked sending to avoid message size limits. See b/62115660.\n",
              "    let position = 0;\n",
              "    do {\n",
              "      const length = Math.min(fileData.byteLength - position, MAX_PAYLOAD_SIZE);\n",
              "      const chunk = new Uint8Array(fileData, position, length);\n",
              "      position += length;\n",
              "\n",
              "      const base64 = btoa(String.fromCharCode.apply(null, chunk));\n",
              "      yield {\n",
              "        response: {\n",
              "          action: 'append',\n",
              "          file: file.name,\n",
              "          data: base64,\n",
              "        },\n",
              "      };\n",
              "\n",
              "      let percentDone = fileData.byteLength === 0 ?\n",
              "          100 :\n",
              "          Math.round((position / fileData.byteLength) * 100);\n",
              "      percent.textContent = `${percentDone}% done`;\n",
              "\n",
              "    } while (position < fileData.byteLength);\n",
              "  }\n",
              "\n",
              "  // All done.\n",
              "  yield {\n",
              "    response: {\n",
              "      action: 'complete',\n",
              "    }\n",
              "  };\n",
              "}\n",
              "\n",
              "scope.google = scope.google || {};\n",
              "scope.google.colab = scope.google.colab || {};\n",
              "scope.google.colab._files = {\n",
              "  _uploadFiles,\n",
              "  _uploadFilesContinue,\n",
              "};\n",
              "})(self);\n",
              "</script> "
            ]
          },
          "metadata": {}
        },
        {
          "output_type": "stream",
          "name": "stdout",
          "text": [
            "Saving Assignment1_denton_housing.csv to Assignment1_denton_housing.csv\n"
          ]
        }
      ]
    },
    {
      "cell_type": "code",
      "source": [
        "\n",
        "import pandas as pd\n",
        "\n",
        "# Loading the CSV file after uploading\n",
        "df = pd.read_csv('Assignment1_denton_housing.csv')\n",
        "\n",
        "# Displaying the first few rows to verify successful loading\n",
        "print(df.head())\n",
        "\n"
      ],
      "metadata": {
        "colab": {
          "base_uri": "https://localhost:8080/"
        },
        "id": "_PXTPzhEv1xU",
        "outputId": "9d2027cf-3974-484d-cb93-51a7873c293c"
      },
      "execution_count": null,
      "outputs": [
        {
          "output_type": "stream",
          "name": "stdout",
          "text": [
            "   year             title_field  value\n",
            "0  2014     Total Housing Units  49109\n",
            "1  2014    Vacant Housing Units   2814\n",
            "2  2014  Occupied Housing Units  46295\n",
            "3  2013     Total Housing Units  47888\n",
            "4  2013    Vacant Housing Units   4215\n"
          ]
        }
      ]
    },
    {
      "cell_type": "code",
      "source": [
        "# Filtering data for \"Occupied Housing Units\" only\n",
        "occupied_units = df[df['title_field'] == 'Occupied Housing Units']\n",
        "\n",
        "# Sorting data by year in ascending order\n",
        "occupied_units = occupied_units.sort_values('year')\n",
        "\n",
        "# Calculating year-to-year difference\n",
        "occupied_units['difference'] = occupied_units['value'].diff()\n",
        "\n",
        "# Dropping NaN values\n",
        "occupied_units_diff = occupied_units.dropna(subset=['difference'])\n",
        "\n",
        "# Sorting the differences in ascending order\n",
        "occupied_units_diff_sorted = occupied_units_diff[['year', 'difference']].sort_values('difference')\n",
        "\n",
        "# Printing the year-to-year difference\n",
        "print(\"Year-to-Year Difference in Occupied Housing Units (Ascending):\")\n",
        "print(occupied_units_diff_sorted)\n"
      ],
      "metadata": {
        "colab": {
          "base_uri": "https://localhost:8080/"
        },
        "id": "MfsMJmIexscM",
        "outputId": "03c75f05-a2a2-4fb8-90a4-51394589acf1"
      },
      "execution_count": null,
      "outputs": [
        {
          "output_type": "stream",
          "name": "stdout",
          "text": [
            "Year-to-Year Difference in Occupied Housing Units (Ascending):\n",
            "    year  difference\n",
            "17  2009      -795.0\n",
            "11  2011      -303.0\n",
            "8   2012      1404.0\n",
            "5   2013      1565.0\n",
            "2   2014      2622.0\n",
            "14  2010      5091.0\n"
          ]
        }
      ]
    },
    {
      "cell_type": "code",
      "source": [],
      "metadata": {
        "id": "lNtSCxPhxxTE"
      },
      "execution_count": null,
      "outputs": []
    },
    {
      "cell_type": "code",
      "source": [
        "# Filtering data for \"Vacant Housing Units\" and \"Occupied Housing Units\"\n",
        "vacant_units = df[df['title_field'] == 'Vacant Housing Units']\n",
        "occupied_units = df[df['title_field'] == 'Occupied Housing Units']\n",
        "\n",
        "# Sorting both dataframes by year\n",
        "vacant_units = vacant_units.sort_values('year')\n",
        "occupied_units = occupied_units.sort_values('year')\n",
        "\n",
        "# Calculating percentages for each year\n",
        "print(\"Year  Vacant Housing Units (%)   Occupied Housing Units (%)\")\n",
        "for year in vacant_units['year'].unique():\n",
        "    total_units = vacant_units[vacant_units['year'] == year]['value'].values[0] + \\\n",
        "                  occupied_units[occupied_units['year'] == year]['value'].values[0]\n",
        "\n",
        "    vacant_percentage = (vacant_units[vacant_units['year'] == year]['value'].values[0] / total_units) * 100\n",
        "    occupied_percentage = (occupied_units[occupied_units['year'] == year]['value'].values[0] / total_units) * 100\n",
        "\n",
        "    print(f\"{year}   {vacant_percentage:.2f}%   {occupied_percentage:.2f}%\")\n"
      ],
      "metadata": {
        "colab": {
          "base_uri": "https://localhost:8080/"
        },
        "id": "uV-1i2Xxx9gU",
        "outputId": "364f7577-7448-4265-ba5a-07c2bb272099"
      },
      "execution_count": null,
      "outputs": [
        {
          "output_type": "stream",
          "name": "stdout",
          "text": [
            "Year  Vacant Housing Units (%)   Occupied Housing Units (%)\n",
            "2008   10.88%   89.12%\n",
            "2009   9.07%   90.93%\n",
            "2010   8.14%   91.86%\n",
            "2011   9.38%   90.62%\n",
            "2012   6.68%   93.32%\n",
            "2013   8.80%   91.20%\n",
            "2014   5.73%   94.27%\n"
          ]
        }
      ]
    },
    {
      "cell_type": "code",
      "source": [
        "# Getting the year and value of the highest Vacant Housing Units\n",
        "max_vacant_units = vacant_units[vacant_units['value'] == vacant_units['value'].max()]\n",
        "\n",
        "# Getting the year and value of the highest Occupied Housing Units\n",
        "max_occupied_units = occupied_units[occupied_units['value'] == occupied_units['value'].max()]\n",
        "\n",
        "print(\"\\nYear with the Highest Number of Housing Units:\")\n",
        "print(f\"Vacant Housing Units      Year: {max_vacant_units['year'].values[0]}    Value: {max_vacant_units['value'].values[0]}\")\n",
        "print(f\"Occupied Housing Units    Year: {max_occupied_units['year'].values[0]}    Value: {max_occupied_units['value'].values[0]}\")\n"
      ],
      "metadata": {
        "colab": {
          "base_uri": "https://localhost:8080/"
        },
        "id": "wUyONX1OyAK7",
        "outputId": "e9000721-26f7-4f01-fe5b-87ad0344bd2a"
      },
      "execution_count": null,
      "outputs": [
        {
          "output_type": "stream",
          "name": "stdout",
          "text": [
            "\n",
            "Year with the Highest Number of Housing Units:\n",
            "Vacant Housing Units      Year: 2008    Value: 4483\n",
            "Occupied Housing Units    Year: 2014    Value: 46295\n"
          ]
        }
      ]
    },
    {
      "cell_type": "code",
      "source": [
        "!pip install scipy"
      ],
      "metadata": {
        "colab": {
          "base_uri": "https://localhost:8080/"
        },
        "id": "vdep7tEYzpxN",
        "outputId": "ecb400d5-365e-4780-8dc7-a029a60bd390"
      },
      "execution_count": null,
      "outputs": [
        {
          "output_type": "stream",
          "name": "stdout",
          "text": [
            "Requirement already satisfied: scipy in /usr/local/lib/python3.10/dist-packages (1.13.1)\n",
            "Requirement already satisfied: numpy<2.3,>=1.22.4 in /usr/local/lib/python3.10/dist-packages (from scipy) (1.26.4)\n"
          ]
        }
      ]
    },
    {
      "cell_type": "code",
      "source": [
        "import pandas as pd\n",
        "from scipy.stats import hmean\n",
        "\n",
        "# Loading the CSV file (I already uploaded it above)\n",
        "df = pd.read_csv('Assignment1_denton_housing.csv')\n",
        "\n",
        "# Filtering data for \"Vacant Housing Units\" and \"Occupied Housing Units\"\n",
        "vacant_units = df[df['title_field'] == 'Vacant Housing Units']\n",
        "occupied_units = df[df['title_field'] == 'Occupied Housing Units']\n",
        "\n",
        "# Sorting both dataframes by year\n",
        "vacant_units = vacant_units.sort_values('year')\n",
        "occupied_units = occupied_units.sort_values('year')\n",
        "\n",
        "# Merging the two dataframes on 'year'\n",
        "merged_units = pd.merge(vacant_units[['year', 'value']],\n",
        "                        occupied_units[['year', 'value']],\n",
        "                        on='year',\n",
        "                        suffixes=('_vacant', '_occupied'))\n",
        "\n",
        "# Calculating total housing units for each year\n",
        "merged_units['total_units'] = merged_units['value_vacant'] + merged_units['value_occupied']\n",
        "\n",
        "# Calculating the harmonic mean of total housing units\n",
        "harmonic_mean_value = hmean(merged_units['total_units'])\n",
        "\n",
        "print(f\"\\nHarmonic Mean of Total Housing Units: {harmonic_mean_value:.2f}\")\n",
        "\n"
      ],
      "metadata": {
        "colab": {
          "base_uri": "https://localhost:8080/"
        },
        "id": "GGaVs6s_yMCz",
        "outputId": "a0a53a71-2ae8-4380-b0bf-f84eeb4478cd"
      },
      "execution_count": null,
      "outputs": [
        {
          "output_type": "stream",
          "name": "stdout",
          "text": [
            "\n",
            "Harmonic Mean of Total Housing Units: 44398.29\n"
          ]
        }
      ]
    },
    {
      "cell_type": "markdown",
      "source": [
        "# Mandatory Question\n",
        "\n",
        "Provide your thoughts on the assignment. What did you find challenging, and what aspects did you enjoy? Your opinion on the provided time to complete the assignment. Share any suggestions for improvement. Your feedback will be valuable for enhancing the learning experience."
      ],
      "metadata": {
        "id": "q8BFCvWp32cf"
      }
    },
    {
      "cell_type": "code",
      "source": [
        "# Write your response below"
      ],
      "metadata": {
        "id": "_e557s2w4BpK"
      },
      "execution_count": null,
      "outputs": []
    },
    {
      "cell_type": "markdown",
      "source": [
        "This assignment was broad in that it cut across various sections; from creating simple programs such as the calculator to text formatting to the data science using the CSV that was given.\n",
        "\n",
        "Uploading the CSV file to Google Colab was almost a nightmare to me. Creating the commandline calculator was the best experience as it was an eye-opener on how real calculators are programmed. Working on unrelated tasks in one assignment was a bit mind-boggling.\n",
        "\n",
        "There was need to switch my mind fast to something different therefore lacking room for great mastery of concepts. Genarally, the adrenaline that came with fulfilling the five tasks was awesome.\n"
      ],
      "metadata": {
        "id": "XGCzt2Ea15Xc"
      }
    }
  ],
  "metadata": {
    "colab": {
      "provenance": [],
      "include_colab_link": true
    },
    "kernelspec": {
      "display_name": "Python 3 (ipykernel)",
      "language": "python",
      "name": "python3"
    },
    "language_info": {
      "codemirror_mode": {
        "name": "ipython",
        "version": 3
      },
      "file_extension": ".py",
      "mimetype": "text/x-python",
      "name": "python",
      "nbconvert_exporter": "python",
      "pygments_lexer": "ipython3",
      "version": "3.9.12"
    }
  },
  "nbformat": 4,
  "nbformat_minor": 0
}
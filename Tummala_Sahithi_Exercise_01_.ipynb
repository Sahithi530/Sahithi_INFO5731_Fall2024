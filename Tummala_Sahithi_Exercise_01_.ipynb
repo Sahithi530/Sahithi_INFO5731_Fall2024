{
  "cells": [
    {
      "cell_type": "markdown",
      "metadata": {
        "id": "view-in-github",
        "colab_type": "text"
      },
      "source": [
        "<a href=\"https://colab.research.google.com/github/Sahithi530/Sahithi_INFO5731_Fall2024/blob/main/Tummala_Sahithi_Exercise_01_.ipynb\" target=\"_parent\"><img src=\"https://colab.research.google.com/assets/colab-badge.svg\" alt=\"Open In Colab\"/></a>"
      ]
    },
    {
      "cell_type": "markdown",
      "metadata": {
        "id": "DymRJbxDBCnf"
      },
      "source": [
        "# **INFO5731 Exercise 1**\n",
        "\n",
        "This exercise covers a variety of fundamental concepts in Python and is designed to help students improve their coding skills and problem-solving abilities.\n",
        "\n",
        "**Expectations**:\n",
        "*   Students are expected to complete the exercise during lecture period to meet the active participation criteria of the course.\n",
        "*   Use the provided .*ipynb* document to write your code & respond to the questions. Avoid generating a new file.\n",
        "*   Write complete answers and run all the cells before submission.\n",
        "*   Make sure the submission is \"clean\"; *i.e.*, no unnecessary code cells.\n",
        "*   Once finished, allow shared rights from top right corner (*see Canvas for details*).\n",
        "\n",
        "**Total points**: 40\n",
        "\n",
        "**Deadline**: This in-class exercise is due at the end of the day tomorrow, at 11:59 PM.\n",
        "\n",
        "**Late submissions cannot be considered, and no requests will be answered. Manage your time accordingly.**\n"
      ]
    },
    {
      "cell_type": "markdown",
      "metadata": {
        "id": "FBKvD6O_TY6e"
      },
      "source": [
        "## Question 1\n",
        "Write a Python program that  prompts the user to input the length and width of a rectangle, and then calculates and displays the area of the rectangle."
      ]
    },
    {
      "cell_type": "code",
      "execution_count": 2,
      "metadata": {
        "colab": {
          "base_uri": "https://localhost:8080/",
          "height": 35
        },
        "id": "tgb5J-SjmZn-",
        "outputId": "26f21772-faca-4448-a428-c29fb6344009"
      },
      "outputs": [
        {
          "output_type": "execute_result",
          "data": {
            "text/plain": [
              "'ABRACADABRA'"
            ],
            "application/vnd.google.colaboratory.intrinsic+json": {
              "type": "string"
            }
          },
          "metadata": {},
          "execution_count": 2
        }
      ],
      "source": [
        "# write your answer here\n",
        "a=\"abracadabra\"\n",
        "a.upper()"
      ]
    },
    {
      "cell_type": "markdown",
      "metadata": {
        "id": "E9RqrlwdTfvl"
      },
      "source": [
        "## Question 2\n",
        "Create a Python program that interactively takes two numerical inputs from the user and swaps their values without utilizing an extra variable."
      ]
    },
    {
      "cell_type": "code",
      "execution_count": 3,
      "metadata": {
        "id": "4XvRknixTh1g",
        "colab": {
          "base_uri": "https://localhost:8080/"
        },
        "outputId": "0b22b96e-6c07-445b-edaf-0f0e4097374f"
      },
      "outputs": [
        {
          "output_type": "stream",
          "name": "stdout",
          "text": [
            "Enter the first number: 1\n",
            "Enter the second number: 2\n",
            "Swapped numbers: 2.0 1.0\n"
          ]
        }
      ],
      "source": [
        "def swap_numbers(num1, num2):\n",
        "\n",
        "\n",
        "    num1 = num1 + num2\n",
        "    num2 = num1 - num2\n",
        "    num1 = num1 - num2\n",
        "    return num1, num2\n",
        "\n",
        "# Get user input\n",
        "num1 = float(input(\"Enter the first number: \"))\n",
        "num2 = float(input(\"Enter the second number: \"))\n",
        "\n",
        "# Swap numbers and print the result\n",
        "swapped_num1, swapped_num2 = swap_numbers(num1, num2)\n",
        "print(\"Swapped numbers:\", swapped_num1, swapped_num2)"
      ]
    },
    {
      "cell_type": "markdown",
      "metadata": {
        "id": "03jb4GZsBkBS"
      },
      "source": [
        "## Question 3\n",
        "Write a Python script to determine and print the length of a user-input string."
      ]
    },
    {
      "cell_type": "code",
      "execution_count": 4,
      "metadata": {
        "colab": {
          "base_uri": "https://localhost:8080/"
        },
        "id": "gUhqKQaHmZoB",
        "outputId": "be891ddf-98ee-4f90-a230-09d085f268de"
      },
      "outputs": [
        {
          "output_type": "stream",
          "name": "stdout",
          "text": [
            "Enter  a string:flower\n",
            "The length of your string is: 6 \n"
          ]
        }
      ],
      "source": [
        "# write your answer here\n",
        "user_input = input(\"Enter  a string:\")\n",
        " #Let us calculate and give out the length of the string\n",
        "\n",
        "length= len(user_input)\n",
        "print(f\"The length of your string is: {length} \")\n"
      ]
    },
    {
      "cell_type": "markdown",
      "metadata": {
        "id": "jJDe71iLB616"
      },
      "source": [
        "## Question 4\n",
        "Construct a Python program that counts and displays the occurrences of each character in a given string.\n",
        "\n",
        "Sample String: 'openai.ai',\n",
        "\n",
        "Expected Result: {'a': 2, 'i': 2, '.': 1, 'o': 1, 'p': 1, 'e': 1, 'n': 1}"
      ]
    },
    {
      "cell_type": "code",
      "execution_count": 5,
      "metadata": {
        "id": "MtKskTzbCLaU",
        "colab": {
          "base_uri": "https://localhost:8080/"
        },
        "outputId": "2296c187-d26d-4da7-9907-df03506c43db"
      },
      "outputs": [
        {
          "output_type": "stream",
          "name": "stdout",
          "text": [
            "Character occurrences: 'o':1 'p':1 'e':1 'n':1 '.':1 'a':1 'i':1\n"
          ]
        }
      ],
      "source": [
        "# write your answer here\n",
        "input_string=\"open.ai\"\n",
        "# Create a dictionary to store counts\n",
        "char_counts = {}\n",
        "for char in input_string:\n",
        "    char_counts[char] = char_counts.get(char, 0) + 1\n",
        "output = \" \".join([f\"'{char}':{count}\" for char, count in char_counts.items()])\n",
        "print(\"Character occurrences:\", output)"
      ]
    },
    {
      "cell_type": "markdown",
      "metadata": {
        "id": "55W9AMdXCSpV"
      },
      "source": [
        "## Question 5\n",
        "Design a Python code to calculate the sum of all elements in a user-provided list."
      ]
    },
    {
      "cell_type": "code",
      "execution_count": null,
      "metadata": {
        "id": "89EjrvwfmZoD",
        "outputId": "89db9f12-1a62-4660-aaf4-b9a95f1e421d"
      },
      "outputs": [
        {
          "name": "stdout",
          "output_type": "stream",
          "text": [
            "The sum of the numbers is: 15\n"
          ]
        }
      ],
      "source": [
        "def calculate_sum(numbers):\n",
        "\n",
        "  sum = 0\n",
        "  for num in numbers:\n",
        "    sum += num\n",
        "  return sum\n",
        "\n",
        "# Example usage:\n",
        "input_list = [1, 2, 3, 4, 5]\n",
        "result = calculate_sum(input_list)\n",
        "print(\"The sum of the numbers is:\", result)"
      ]
    },
    {
      "cell_type": "markdown",
      "metadata": {
        "id": "4ulBZ6yhCi9F"
      },
      "source": [
        "## Question 6\n",
        "Write a Python program that modifies a given string by replacing all occurrences of its first character with '$', excluding the first character itself.\n",
        "\n",
        "\n",
        "Sample String : 'restart‘\n",
        "Expected Result : 'resta\\$t'"
      ]
    },
    {
      "cell_type": "code",
      "execution_count": 1,
      "metadata": {
        "colab": {
          "base_uri": "https://localhost:8080/"
        },
        "id": "xvuNCUuNmZoE",
        "outputId": "4eb20ac7-0957-4f77-ca42-98af5f74a872"
      },
      "outputs": [
        {
          "output_type": "stream",
          "name": "stdout",
          "text": [
            "Enter a string: wow\n",
            "Modified string: wo$\n"
          ]
        }
      ],
      "source": [
        "def replace_subsequent_occurrences(string):\n",
        "      if len(string) <= 1:\n",
        "        return string\n",
        "\n",
        "      first_char = string[0]\n",
        "      modified_string = first_char + string[1:].replace(first_char, '$')\n",
        "      return modified_string\n",
        "# Get the input string from the user\n",
        "input_string = input(\"Enter a string: \")\n",
        "result = replace_subsequent_occurrences(input_string)\n",
        "print(\"Modified string:\", result)\n",
        ""
      ]
    },
    {
      "cell_type": "markdown",
      "metadata": {
        "id": "qVXA3q7ET5JI"
      },
      "source": [
        "## Question 7\n",
        "Write a Python program using a while loop to compute the factorial of a user-supplied number."
      ]
    },
    {
      "cell_type": "code",
      "execution_count": 6,
      "metadata": {
        "id": "Lbt7R6UkT7BA",
        "colab": {
          "base_uri": "https://localhost:8080/"
        },
        "outputId": "4e24bea0-55ab-4ac3-ecd2-8734a69c011a"
      },
      "outputs": [
        {
          "output_type": "stream",
          "name": "stdout",
          "text": [
            "Enter a non-negative number: 3\n",
            "Factorial of 3 is 6\n"
          ]
        }
      ],
      "source": [
        "def factorial(number):\n",
        "    if number < 0:\n",
        "        return None\n",
        "    result = 1\n",
        "    while number > 0:\n",
        "        result *= number\n",
        "        number -= 1\n",
        "    return result\n",
        "\n",
        "while True:\n",
        "    try:\n",
        "        user_input = int(input(\"Enter a non-negative number: \"))\n",
        "        if user_input < 0:\n",
        "            raise ValueError(\"Number must be non-negative.\")\n",
        "        factorial_result = factorial(user_input)\n",
        "        if factorial_result is not None:\n",
        "            print(\"Factorial of\", user_input, \"is\", factorial_result)\n",
        "        break\n",
        "    except ValueError as e:\n",
        "        print(\"Error:\", e)"
      ]
    },
    {
      "cell_type": "markdown",
      "metadata": {
        "id": "6YfbzXMNT--R"
      },
      "source": [
        "## Question 8\n",
        "Create a program that accepts a list of numbers as input and outputs a new list containing only the even numbers."
      ]
    },
    {
      "cell_type": "code",
      "execution_count": 7,
      "metadata": {
        "id": "qRqEn-tRmZoG"
      },
      "outputs": [],
      "source": [
        "def extract_even_numbers(numbers):\n",
        "    even_numbers = []\n",
        "    for num in numbers:\n",
        "        if num % 2 == 0:\n",
        "            even_numbers.append(num)\n",
        "    return even_numbers"
      ]
    },
    {
      "cell_type": "markdown",
      "metadata": {
        "id": "_bIP7s1MCzue"
      },
      "source": [
        "## Question 9\n",
        "Design a Python function to check if a number is prime.\n"
      ]
    },
    {
      "cell_type": "code",
      "execution_count": null,
      "metadata": {
        "id": "w79QilHXD3Mg"
      },
      "outputs": [],
      "source": [
        "def is_prime(number):\n",
        "\n",
        "\n",
        "    if number <= 1:\n",
        "        return False\n",
        "\n",
        "    if number <= 3:\n",
        "        return True\n",
        "\n",
        "    if number % 2 == 0 or number % 3 == 0:\n",
        "        return False\n",
        "\n",
        "    i = 5\n",
        "    while i * i <= number:\n",
        "        if number % i == 0 or number % (i + 2) == 0:\n",
        "            return False\n",
        "        i += 6\n",
        "\n",
        "    return True\n",
        "\n"
      ]
    },
    {
      "cell_type": "markdown",
      "metadata": {
        "id": "xCa2bK9aD4Q3"
      },
      "source": [
        "## Question 10\n",
        "Write a Python program to concatenate following dictionaries to create a new one.\n",
        "\n",
        "Sample Dictionary : dic1={1:10, 2:20}, dic2={3:30, 4:40}, dic3={5:50,6:60},\n",
        "\n",
        "Expected Result : {1: 10, 2: 20, 3: 30, 4: 40, 5: 50, 6: 60}\n"
      ]
    },
    {
      "cell_type": "code",
      "execution_count": 18,
      "metadata": {
        "id": "_z4aLqAbEET1",
        "colab": {
          "base_uri": "https://localhost:8080/"
        },
        "outputId": "d1f02972-03af-43e4-f9b6-cab249cb4b60"
      },
      "outputs": [
        {
          "output_type": "stream",
          "name": "stdout",
          "text": [
            "{1: 10, 2: 20, 3: 30, 4: 40, 5: 50, 6: 60}\n"
          ]
        }
      ],
      "source": [
        "# write your answer here\n",
        "def concatenate_dictionaries(*dicts):\n",
        "      result = {}\n",
        "      for d in dicts:\n",
        "        result.update(d)\n",
        "      return result\n",
        "dic1 = {1: 10, 2: 20}\n",
        "dic2 = {3: 30, 4: 40}\n",
        "dic3 = {5: 50, 6: 60}\n",
        "merged_dict = concatenate_dictionaries(dic1, dic2, dic3)\n",
        "#print the merged dictionary\n",
        "print(merged_dict)\n",
        "\n"
      ]
    },
    {
      "cell_type": "markdown",
      "metadata": {
        "id": "bkyZ2xSZUOst"
      },
      "source": [
        "## Question 11\n",
        "Design a Python function that takes a tuple of integers as input and returns the largest and smallest elements."
      ]
    },
    {
      "cell_type": "code",
      "execution_count": 8,
      "metadata": {
        "id": "3FdLRBKOUQEd"
      },
      "outputs": [],
      "source": [
        "def find_max_min(numbers):\n",
        "    if not numbers:\n",
        "        raise ValueError(\"Tuple cannot be empty.\")\n",
        "    max_num = numbers[0]\n",
        "    min_num = numbers[0]\n",
        "    for num in numbers:\n",
        "        if num > max_num:\n",
        "            max_num = num\n",
        "        elif num < min_num:\n",
        "            min_num = num\n",
        "\n",
        "    return max_num, min_num"
      ]
    },
    {
      "cell_type": "markdown",
      "metadata": {
        "id": "O0TVi3gKUTpp"
      },
      "source": [
        "## Question 12\n",
        "Write a Python program that counts the frequency of each character in a given string and stores it in a dictionary."
      ]
    },
    {
      "cell_type": "code",
      "execution_count": 9,
      "metadata": {
        "id": "lAtfSfZXUU-h",
        "colab": {
          "base_uri": "https://localhost:8080/"
        },
        "outputId": "5cb8d8f4-23d3-44d7-a47d-702977d02feb"
      },
      "outputs": [
        {
          "output_type": "stream",
          "name": "stdout",
          "text": [
            "{'o': 1, 'p': 1, 'e': 1, 'n': 1, '.': 1, 'a': 1, 'i': 1}\n"
          ]
        }
      ],
      "source": [
        "def count_character_frequencies(string):\n",
        "    frequency_dict = {}\n",
        "    for char in string:\n",
        "        if char in frequency_dict:\n",
        "            frequency_dict[char] += 1\n",
        "        else:\n",
        "            frequency_dict[char] = 1\n",
        "    return frequency_dict\n",
        "input_string\n",
        "result = count_character_frequencies(input_string)\n",
        "print(result)"
      ]
    },
    {
      "cell_type": "markdown",
      "metadata": {
        "id": "0v48Vqa7FrQh"
      },
      "source": [
        "## Question 13\n",
        "Implement a Python script to identify duplicate elements in a provided array of integers. Return -1 if there are no duplicates."
      ]
    },
    {
      "cell_type": "code",
      "execution_count": 10,
      "metadata": {
        "id": "7WEmgq-DF2P1"
      },
      "outputs": [],
      "source": [
        "# write your answer here\n",
        "def find_duplicates(numbers):\n",
        "  seen = set()\n",
        "  duplicates = []\n",
        "  for num in numbers:\n",
        "    if num in seen:\n",
        "      duplicates.append(num)\n",
        "    else:\n",
        "      seen.add(num)\n",
        "  if duplicates:\n",
        "    return duplicates\n",
        "  else:\n",
        "    return -1"
      ]
    },
    {
      "cell_type": "markdown",
      "metadata": {
        "id": "vD5PYLMuGga_"
      },
      "source": [
        "## Question 14\n",
        "Write a Python script to find the common elements between two lists."
      ]
    },
    {
      "cell_type": "code",
      "execution_count": 11,
      "metadata": {
        "id": "t0D5kdJUGjjw",
        "colab": {
          "base_uri": "https://localhost:8080/"
        },
        "outputId": "bed0889a-e370-4ce6-97ec-382b84d6feed"
      },
      "outputs": [
        {
          "output_type": "stream",
          "name": "stdout",
          "text": [
            "Enter elements for list 1 (separated by spaces): 1 2 3\n",
            "Enter elements for list 2 (separated by spaces): 4\n",
            "Common elements: []\n"
          ]
        }
      ],
      "source": [
        "def find_common_elements(list1, list2):\n",
        "    common_elements = []\n",
        "    for element in list1:\n",
        "        if element in list2 and element not in common_elements:\n",
        "            common_elements.append(element)\n",
        "    return common_elements\n",
        "\n",
        "\n",
        "list1 = input(\"Enter elements for list 1 (separated by spaces): \").split()\n",
        "list2 = input(\"Enter elements for list 2 (separated by spaces): \").split()\n",
        "\n",
        "list1 = [int(x) for x in list1]\n",
        "list2 = [int(x) for x in list2]\n",
        "\n",
        "common = find_common_elements(list1, list2)\n",
        "print(\"Common elements:\", common)"
      ]
    },
    {
      "cell_type": "code",
      "execution_count": null,
      "metadata": {
        "id": "oP7Ogu0tmZoI"
      },
      "outputs": [],
      "source": []
    },
    {
      "cell_type": "markdown",
      "metadata": {
        "id": "uHkd-y5VhVWC"
      },
      "source": [
        "## Question 15\n",
        "Write a Python program to randomly divide the students in this class into maximum of eight groups for term projects, each group should have at least 4 students but no more than 6 students (including 6).\n",
        "\n",
        "Here is the students list:\n",
        "\n",
        "student_list_spring_2024=[rb0846,\n",
        "ac1964,\n",
        "hc0612,\n",
        "md0912,\n",
        "ad1198,\n",
        "md0894,\n",
        "md0825,\n",
        "vg0598,\n",
        "vg0433,\n",
        "mh1068,\n",
        "yj0173,\n",
        "pk0553,\n",
        "tk0411,\n",
        "srk0204,\n",
        "sk2922,\n",
        "sk2936,\n",
        "mk1302,\n",
        "mk1317,\n",
        "tk0412,\n",
        "vk0656,\n",
        "sm2985,\n",
        "mm2372,\n",
        "un0045,\n",
        "an0892,\n",
        "sn0913,\n",
        "gp0252,\n",
        "ap1484,\n",
        "mr1765,\n",
        "sr1385,\n",
        "sr1335,\n",
        "hs0665,\n",
        "ms2060,\n",
        "gt0217,\n",
        "nt0385,\n",
        "tv0186,\n",
        "sv1394,\n",
        "sv1752,\n",
        "sv1555,\n",
        "sy0594\n",
        "]\n"
      ]
    },
    {
      "cell_type": "code",
      "execution_count": 19,
      "metadata": {
        "id": "3iGbmcOBhTwy",
        "colab": {
          "base_uri": "https://localhost:8080/"
        },
        "outputId": "335a649b-9189-4da9-a02c-645bcd86a80f"
      },
      "outputs": [
        {
          "output_type": "stream",
          "name": "stdout",
          "text": [
            "Group 1: ['mr1765', 'mh1068', 'sk2936', 'vk0656', 'md0894', 'gp0252']\n",
            "Group 2: ['vg0433', 'tk0412', 'ms2060', 'tv0186', 'md0825', 'sk2922']\n",
            "Group 3: ['sv1394', 'sy0594', 'hc0612', 'yj0173', 'sr1385', 'ad1198']\n",
            "Group 4: ['nt0385', 'sm2985', 'an0892', 'vg0598', 'mm2372', 'sv1555']\n",
            "Group 5: ['mk1302', 'rb0846', 'sr1335', 'tk0411', 'sv1752', 'gt0217']\n",
            "Group 6: ['md0912', 'srk0204', 'pk0553', 'un0045', 'sn0913', 'ap1484']\n",
            "Group 7: ['hs0665', 'mk1317', 'ac1964']\n"
          ]
        }
      ],
      "source": [
        "# write your answer here\n",
        "import random\n",
        "\n",
        "def divide_students(student_list, max_groups=8, min_group_size=4, max_group_size=6):\n",
        "\n",
        "\n",
        "    random.shuffle(student_list)\n",
        "\n",
        "    groups = []\n",
        "    current_group = []\n",
        "    for student in student_list:\n",
        "        current_group.append(student)\n",
        "        if len(current_group) == max_group_size or (len(current_group) == min_group_size and len(groups) >= max_groups - 1):\n",
        "            groups.append(current_group)\n",
        "            current_group = []\n",
        "\n",
        "    if current_group:\n",
        "        groups.append(current_group)\n",
        "\n",
        "    return groups\n",
        "\n",
        "# Sample student list\n",
        "student_list_spring_2024 = [\n",
        "    \"rb0846\", \"ac1964\", \"hc0612\", \"md0912\", \"ad1198\", \"md0894\", \"md0825\", \"vg0598\",\n",
        "    \"vg0433\", \"mh1068\", \"yj0173\", \"pk0553\", \"tk0411\", \"srk0204\", \"sk2922\", \"sk2936\",\n",
        "    \"mk1302\", \"mk1317\", \"tk0412\", \"vk0656\", \"sm2985\", \"mm2372\", \"un0045\", \"an0892\",\n",
        "    \"sn0913\", \"gp0252\", \"ap1484\", \"mr1765\", \"sr1385\", \"sr1335\", \"hs0665\", \"ms2060\",\n",
        "    \"gt0217\", \"nt0385\", \"tv0186\", \"sv1394\", \"sv1752\", \"sv1555\", \"sy0594\"\n",
        "]\n",
        "\n",
        "# Divide students into groups\n",
        "groups = divide_students(student_list_spring_2024)\n",
        "\n",
        "# Print the groups\n",
        "for i, group in enumerate(groups):\n",
        "    print(f\"Group {i + 1}: {group}\")\n"
      ]
    },
    {
      "cell_type": "markdown",
      "metadata": {
        "id": "fmZ9vX20Qs3d"
      },
      "source": [
        "## Question 16\n",
        "Create a program that takes a positive integer 'n' as input and prints the count of even numbers from 1 to 'n'. Optimize the loop using the continue statement."
      ]
    },
    {
      "cell_type": "code",
      "execution_count": 12,
      "metadata": {
        "id": "W8Jw6sWMQs3d",
        "colab": {
          "base_uri": "https://localhost:8080/"
        },
        "outputId": "def27769-65c9-4f85-bb8d-8d4523d91ddb"
      },
      "outputs": [
        {
          "output_type": "stream",
          "name": "stdout",
          "text": [
            "Enter a positive integer: 4\n",
            "Number of even numbers from 1 to 4 : 2\n"
          ]
        }
      ],
      "source": [
        "# write your answer here\n",
        "def count_even_numbers(n):\n",
        "    count = 0\n",
        "    for num in range(1, n + 1):\n",
        "        if num % 2 != 0:\n",
        "            continue\n",
        "        count += 1\n",
        "    return count\n",
        "\n",
        "n = int(input(\"Enter a positive integer: \"))\n",
        "result = count_even_numbers(n)\n",
        "print(\"Number of even numbers from 1 to\", n, \":\", result)"
      ]
    },
    {
      "cell_type": "markdown",
      "metadata": {
        "id": "hvq4APMhQs3d"
      },
      "source": [
        "## Question 17\n",
        "Develop a Python function called 'count_vowels' that takes a string as input and returns the count of vowels (both lowercase and uppercase) present in the string, ignoring spaces and non-alphabetic characters."
      ]
    },
    {
      "cell_type": "code",
      "execution_count": 13,
      "metadata": {
        "id": "ZnoxhSglQs3d",
        "colab": {
          "base_uri": "https://localhost:8080/"
        },
        "outputId": "9c339730-f18f-417b-9c1f-bbb0ab13fa20"
      },
      "outputs": [
        {
          "output_type": "stream",
          "name": "stdout",
          "text": [
            "Enter a string: given\n",
            "Number of vowels: 2\n"
          ]
        }
      ],
      "source": [
        "# write your answer here\n",
        "def count_vowels(string):\n",
        "    vowels = \"aeiouAEIOU\"\n",
        "    count = 0\n",
        "    for char in string:\n",
        "        if char in vowels:\n",
        "            count += 1\n",
        "    return count\n",
        "\n",
        "string = input(\"Enter a string: \")\n",
        "vowel_count = count_vowels(string)\n",
        "print(\"Number of vowels:\", vowel_count)\n"
      ]
    },
    {
      "cell_type": "markdown",
      "metadata": {
        "id": "55FWoSJPVVM6"
      },
      "source": [
        "## Question 18\n",
        "Create a custom exception named ValueTooSmallError in Python. Write a program that takes user input for an age, and if the entered age is less than 18, raise the ValueTooSmallError with an appropriate error message."
      ]
    },
    {
      "cell_type": "code",
      "execution_count": 14,
      "metadata": {
        "id": "hwtr1wZmVX5A",
        "colab": {
          "base_uri": "https://localhost:8080/"
        },
        "outputId": "eee20570-3056-460e-bc2e-d6c3d2616a73"
      },
      "outputs": [
        {
          "output_type": "stream",
          "name": "stdout",
          "text": [
            "Enter your age: 24\n",
            "Age is valid.\n"
          ]
        }
      ],
      "source": [
        "# write your answer here\n",
        "class ValueTooSmallError(Exception):\n",
        "    pass\n",
        "\n",
        "def validate_age(age):\n",
        "    if age < 18:\n",
        "        raise ValueTooSmallError(\"Age must be 18 or older.\")\n",
        "\n",
        "try:\n",
        "    age = int(input(\"Enter your age: \"))\n",
        "    validate_age(age)\n",
        "    print(\"Age is valid.\")\n",
        "except ValueTooSmallError as e:\n",
        "    print(e)"
      ]
    },
    {
      "cell_type": "markdown",
      "metadata": {
        "id": "Q9ecagcaVazW"
      },
      "source": [
        "## Question 19\n",
        "Develop a script that reverses a given string without using built-in reverse functions."
      ]
    },
    {
      "cell_type": "code",
      "execution_count": 15,
      "metadata": {
        "id": "gycgckoAVZjR",
        "colab": {
          "base_uri": "https://localhost:8080/"
        },
        "outputId": "fcccef52-ddbd-4c5b-e5db-5706e5bfe725"
      },
      "outputs": [
        {
          "output_type": "stream",
          "name": "stdout",
          "text": [
            "Enter a string: light\n",
            "Reversed string: thgil\n"
          ]
        }
      ],
      "source": [
        "# write your answer here\n",
        "def reverse_string(string):\n",
        "    reversed_string = \"\"\n",
        "    for char in string:\n",
        "        reversed_string = char + reversed_string\n",
        "    return reversed_string\n",
        "\n",
        "string = input(\"Enter a string: \")\n",
        "reversed_string = reverse_string(string)\n",
        "print(\"Reversed string:\", reversed_string)\n"
      ]
    },
    {
      "cell_type": "markdown",
      "metadata": {
        "id": "ZFG6RibifMLu"
      },
      "source": [
        "## Question 20\n",
        "Implement a Python script to generate a random password of a specified length."
      ]
    },
    {
      "cell_type": "code",
      "execution_count": 16,
      "metadata": {
        "id": "BFVrkEi9fNiD",
        "colab": {
          "base_uri": "https://localhost:8080/"
        },
        "outputId": "41a800d7-2046-4cfd-d5bf-f0e41f130217"
      },
      "outputs": [
        {
          "output_type": "stream",
          "name": "stdout",
          "text": [
            "Enter the password length: 6\n",
            "Generate password: +\"}dwz\n"
          ]
        }
      ],
      "source": [
        "# write your answer here\n",
        "import random\n",
        "import string\n",
        "\n",
        "def generate_password(length):\n",
        "    characters = string.ascii_letters + string.digits + string.punctuation\n",
        "    password = ''.join(random.choice(characters) for _ in range(length))\n",
        "    return password\n",
        "\n",
        "password_length = int(input(\"Enter the password length: \"))\n",
        "password = generate_password(password_length)\n",
        "print(\"Generate password:\", password)"
      ]
    },
    {
      "cell_type": "markdown",
      "metadata": {
        "id": "6SmvS7nSfbj8"
      },
      "source": [
        "# Try these questions"
      ]
    },
    {
      "cell_type": "markdown",
      "metadata": {
        "id": "cboAr5pEWUf5"
      },
      "source": [
        "(21) Define a base class called 'Vehicle' with attributes make and model. Create a derived class Car that inherits from Vehicle and has an additional attribute 'num_doors'. Demonstrate an example of creating an instance of the 'Car' class and accessing its attributes."
      ]
    },
    {
      "cell_type": "code",
      "execution_count": null,
      "metadata": {
        "id": "phs9gciMWWAW"
      },
      "outputs": [],
      "source": [
        "# write your answer here\n",
        "class Vehicle:\n",
        "    def __init__(self, make, model):\n",
        "        self.make = make\n",
        "        self.model = model\n",
        "\n",
        "class Car(Vehicle):\n",
        "    def __init__(self, make, model, num_doors):\n",
        "        super().__init__(make, model)\n",
        "        self.num_doors = num_doors\n",
        "\n",
        "# Create an instance of the Car class\n",
        "my_car = Car(\"Toyota\", \"Camry\", 4)\n",
        "\n",
        "# Access the attributes of the Car object\n",
        "print(\"Make:\", my_car.make)\n",
        "print(\"Model:\", my_car.model)\n",
        "print(\"Number of doors:\", my_car.num_doors)"
      ]
    },
    {
      "cell_type": "markdown",
      "metadata": {
        "id": "J8HHefNtePwd"
      },
      "source": [
        "(22) Create a class called 'Shape' with a method calculate_area(). Implement two derived classes 'Circle' and 'Rectangle' that inherit from Shape and override the calculate_area() method. Demonstrate polymorphism by creating instances of both derived classes and calling the calculate_area() method."
      ]
    },
    {
      "cell_type": "code",
      "execution_count": null,
      "metadata": {
        "id": "btnMmUZDeRhS"
      },
      "outputs": [],
      "source": []
    },
    {
      "cell_type": "markdown",
      "metadata": {
        "id": "z0oqEAlTeMUS"
      },
      "source": [
        "(23) Write a Python program that prompts the user to enter two numbers and perform a division operation. Handle exceptions for both zero division and invalid input (non-numeric input). Display appropriate error messages for each type of exception and ensure the program does not crash due to these errors."
      ]
    },
    {
      "cell_type": "markdown",
      "metadata": {
        "id": "sZOhks1dXWEe"
      },
      "source": [
        "# Mandatory Question"
      ]
    },
    {
      "cell_type": "markdown",
      "metadata": {
        "id": "eqmHVEwaWhbV"
      },
      "source": [
        "**Important:**\n",
        "Reflecting on the first three lectures and the exercises you've completed, please provide feedback on your learning experience. Share your thoughts on whether the material covered was clear, the exercises were helpful, and if you feel more confident in applying Python programming concepts. Additionally, mention any specific areas where you would like more clarification or topics you would like to explore further in future lectures. Your feedback is valuable in shaping the course for an effective learning journey."
      ]
    },
    {
      "cell_type": "code",
      "execution_count": null,
      "metadata": {
        "id": "akAVJn9YBTQT"
      },
      "outputs": [],
      "source": [
        "'''\n",
        "I have been applying all the codes and trying it out on applications. I am using all the lecture notes and they are helping me out.\n",
        "'''"
      ]
    }
  ],
  "metadata": {
    "colab": {
      "collapsed_sections": [
        "FBKvD6O_TY6e",
        "E9RqrlwdTfvl",
        "03jb4GZsBkBS",
        "jJDe71iLB616",
        "55W9AMdXCSpV",
        "4ulBZ6yhCi9F",
        "6SmvS7nSfbj8",
        "sZOhks1dXWEe"
      ],
      "provenance": [],
      "toc_visible": true,
      "include_colab_link": true
    },
    "kernelspec": {
      "display_name": "Python 3 (ipykernel)",
      "language": "python",
      "name": "python3"
    },
    "language_info": {
      "codemirror_mode": {
        "name": "ipython",
        "version": 3
      },
      "file_extension": ".py",
      "mimetype": "text/x-python",
      "name": "python",
      "nbconvert_exporter": "python",
      "pygments_lexer": "ipython3",
      "version": "3.12.3"
    }
  },
  "nbformat": 4,
  "nbformat_minor": 0
}